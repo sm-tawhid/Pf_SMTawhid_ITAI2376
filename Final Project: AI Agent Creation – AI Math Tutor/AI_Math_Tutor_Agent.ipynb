{
  "cells": [
    {
      "cell_type": "markdown",
      "metadata": {
        "id": "nNlnyxw7zBca"
      },
      "source": [
        "# AI Math Tutor Agent\n",
        "This notebook implements a simple interactive AI agent that can solve basic algebra problems, quiz the user, and provide explanations using symbolic math. Built using Python and SymPy."
      ],
      "id": "nNlnyxw7zBca"
    },
    {
      "cell_type": "markdown",
      "metadata": {
        "id": "0z8Q8LejzBce"
      },
      "source": [
        "## 1. Setup and Imports"
      ],
      "id": "0z8Q8LejzBce"
    },
    {
      "cell_type": "code",
      "execution_count": 1,
      "metadata": {
        "id": "sgrzG5RszBcf"
      },
      "outputs": [],
      "source": [
        "from sympy import symbols, Eq, solve, simplify\n",
        "import random"
      ],
      "id": "sgrzG5RszBcf"
    },
    {
      "cell_type": "markdown",
      "metadata": {
        "id": "lsmmlgvkzBch"
      },
      "source": [
        "## 2. Tool Definitions"
      ],
      "id": "lsmmlgvkzBch"
    },
    {
      "cell_type": "code",
      "execution_count": 2,
      "metadata": {
        "id": "KJytTJqJzBci"
      },
      "outputs": [],
      "source": [
        "def solve_equation(equation_str):\n",
        "    try:\n",
        "        x = symbols('x')\n",
        "        lhs, rhs = equation_str.split('=')\n",
        "        eq = Eq(simplify(lhs), simplify(rhs))\n",
        "        result = solve(eq, x)\n",
        "        return f\"Solution: x = {result[0]}\" if result else \"No solution found.\"\n",
        "    except Exception as e:\n",
        "        return f\"Error solving equation: {e}\""
      ],
      "id": "KJytTJqJzBci"
    },
    {
      "cell_type": "code",
      "execution_count": 3,
      "metadata": {
        "id": "HOL9snj-zBcj"
      },
      "outputs": [],
      "source": [
        "def generate_quiz():\n",
        "    x = symbols('x')\n",
        "    a, b = random.randint(1, 10), random.randint(1, 10)\n",
        "    problem = f\"{a}*x + {b} = 0\"\n",
        "    correct = solve(Eq(a*x + b, 0))[0]\n",
        "    return problem, correct"
      ],
      "id": "HOL9snj-zBcj"
    },
    {
      "cell_type": "markdown",
      "metadata": {
        "id": "Oi7HvrzGzBcj"
      },
      "source": [
        "## 3. Agent Logic"
      ],
      "id": "Oi7HvrzGzBcj"
    },
    {
      "cell_type": "code",
      "execution_count": 15,
      "metadata": {
        "id": "1eG_yIQwzBck"
      },
      "outputs": [],
      "source": [
        "def agent_response(user_input):\n",
        "    if 'solve' in user_input or '=' in user_input:\n",
        "        return solve_equation(user_input)\n",
        "\n",
        "    elif 'quiz' in user_input.lower():\n",
        "        problem, answer = generate_quiz()\n",
        "        print(f\"Quiz: Solve {problem}\")\n",
        "        try:\n",
        "            raw = input(\"Your answer: \")\n",
        "            # Clean input and extract numeric part\n",
        "            cleaned = raw.replace(\"x\", \"\").replace(\"=\", \"\").strip()\n",
        "            user_ans = float(eval(cleaned))  # Handles fractions like -8/9\n",
        "\n",
        "            if abs(user_ans - answer) < 0.01:\n",
        "                return \"✅ Correct!\"\n",
        "            else:\n",
        "                return f\"❌ Incorrect. The correct answer was {answer}.\"\n",
        "        except:\n",
        "            return f\"❌ Invalid input. The correct answer was {answer}.\"\n",
        "\n",
        "    else:\n",
        "        return \"Sorry, I can only solve equations or quiz you on them. Type 'solve x + 2 = 5' or 'quiz'.\""
      ],
      "id": "1eG_yIQwzBck"
    },
    {
      "cell_type": "markdown",
      "metadata": {
        "id": "Nw8PnDgczBcl"
      },
      "source": [
        "## 4. User Interaction Loop"
      ],
      "id": "Nw8PnDgczBcl"
    },
    {
      "cell_type": "code",
      "execution_count": 17,
      "metadata": {
        "colab": {
          "base_uri": "https://localhost:8080/"
        },
        "id": "hjVRobaGzBcm",
        "outputId": "5fa8e71f-a5c9-4e07-dcd0-faf58ea5628f"
      },
      "outputs": [
        {
          "output_type": "stream",
          "name": "stdout",
          "text": [
            "Welcome to the AI Math Tutor! Type 'quiz', 'equations', or 'quit' to exit.\n",
            "You: x + 5 = 12\n",
            "Agent: Solution: x = 7\n",
            "You: quiz\n",
            "Quiz: Solve 5*x + 4 = 0\n",
            "Your answer: -4/5\n",
            "Agent: ✅ Correct!\n",
            "You: quit\n",
            "Goodbye!\n"
          ]
        }
      ],
      "source": [
        "print(\"Welcome to the AI Math Tutor! Type 'quiz', 'equations', or 'quit' to exit.\")\n",
        "\n",
        "while True:\n",
        "    user_input = input(\"You: \")\n",
        "    if user_input.lower() == 'quit':\n",
        "        print(\"Goodbye!\")\n",
        "        break\n",
        "    response = agent_response(user_input)\n",
        "    print(\"Agent:\", response)"
      ],
      "id": "hjVRobaGzBcm"
    },
    {
      "cell_type": "markdown",
      "metadata": {
        "id": "8OQ3SNuKzBcm"
      },
      "source": [
        "## 5. Tool Use Documentation\n",
        "The agent determines which tool to use based on user input:\n",
        "- If the input contains '=', it uses the symbolic math solver.\n",
        "- If the user says 'quiz', it uses the quiz generator tool.\n",
        "\n",
        "The agent handles tool errors using try-except blocks and always returns a safe message."
      ],
      "id": "8OQ3SNuKzBcm"
    },
    {
      "cell_type": "markdown",
      "metadata": {
        "id": "sGJU1COFzBcn"
      },
      "source": [
        "## 6. Example Runs\n",
        "**Example 1**  \n",
        "User: x + 5 = 12  \n",
        "Agent: Solution: x = 7\n",
        "\n",
        "**Example 2**  \n",
        "User: quiz  \n",
        "Agent: Quiz: Solve 3x + 6 = 0  \n",
        "User: -2  \n",
        "Agent: ✅ Correct!"
      ],
      "id": "sGJU1COFzBcn"
    }
  ],
  "metadata": {
    "kernelspec": {
      "display_name": "Python 3",
      "language": "python",
      "name": "python3"
    },
    "language_info": {
      "name": "python",
      "version": "3.10"
    },
    "colab": {
      "provenance": []
    }
  },
  "nbformat": 4,
  "nbformat_minor": 5
}